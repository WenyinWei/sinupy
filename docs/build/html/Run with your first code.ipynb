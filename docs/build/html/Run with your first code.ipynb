{
 "cells": [
  {
   "cell_type": "markdown",
   "metadata": {},
   "source": [
    "## Run with your first code"
   ]
  },
  {
   "cell_type": "code",
   "execution_count": 1,
   "metadata": {},
   "outputs": [],
   "source": [
    "from sympy import init_printing; init_printing()\n",
    "\n",
    "from IPython.core.interactiveshell import InteractiveShell\n",
    "InteractiveShell.ast_node_interactivity = \"all\" # display all expression in one cell instead of the last one"
   ]
  },
  {
   "cell_type": "markdown",
   "metadata": {},
   "source": [
    "#### Wave Equation\n",
    "The tensor coefficient matrix in electromagnetic wave equation \n",
    "\n",
    "$$\\mathit{k}\\times(\\mathit{k}\\times \\tilde{\\mathit{E}}) + k_0^2 \\mathbf{\\kappa}\\cdot \\tilde{\\mathit{E}}=\\mathit{0}$$\n",
    "\n",
    "$$\n",
    "\\left(\\begin{bmatrix}\n",
    "-k_z^2 &  & k_x k_z \\\\ \n",
    " & -k_x^2-k_z^2 & \\\\ \n",
    " k_x k_z &  & -k_x^2\n",
    "\\end{bmatrix} + k_0^2\n",
    "\\begin{bmatrix}\n",
    "\\kappa_\\perp & -j \\kappa_\\times & \\\\ \n",
    "j\\kappa_\\times & \\kappa_\\perp  & \\\\ \n",
    " &  & \\kappa_\\parallel\n",
    "\\end{bmatrix}\\right)\\cdot \n",
    "\\begin{bmatrix}\n",
    "\\tilde{E}_x\\\\ \n",
    "\\tilde{E}_y\\\\ \n",
    "\\tilde{E}_z\n",
    "\\end{bmatrix} = \n",
    "\\begin{bmatrix}\n",
    "0\\\\ \n",
    "0\\\\ \n",
    "0\n",
    "\\end{bmatrix}$$\n",
    "\n",
    "$$\n",
    "\\mathbf{T}\\cdot \n",
    "\\begin{bmatrix}\n",
    "\\tilde{E}_x\\\\ \n",
    "\\tilde{E}_y\\\\ \n",
    "\\tilde{E}_z\n",
    "\\end{bmatrix} = \n",
    "\\begin{bmatrix}\n",
    "0\\\\ \n",
    "0\\\\ \n",
    "0\n",
    "\\end{bmatrix}\n",
    "$$\n",
    "\n",
    "You can acquire the `sympy.Array` representation of the above (tensor) matrix coefficients by the `WaveEq` class' coeff_matrix() method. For the relevant variable, you can get them by attribute *e.g.*, `wave_eq.wave.k[1]` means the wave's $k_y$ component of $\\vec{k}$ vector."
   ]
  },
  {
   "cell_type": "code",
   "execution_count": 9,
   "metadata": {
    "scrolled": true
   },
   "outputs": [
    {
     "data": {
      "text/latex": [
       "$\\displaystyle \\left[\\begin{matrix}- k_{y }^{2} - k_{z }^{2} + \\frac{\\kappa_{\\perp} \\omega_{}^{2}}{c^{2}} & - \\frac{i \\kappa_{\\times} \\omega_{}^{2}}{c^{2}} + k_{x } k_{y } & k_{x } k_{z }\\\\\\frac{i \\kappa_{\\times} \\omega_{}^{2}}{c^{2}} + k_{x } k_{y } & - k_{x }^{2} - k_{z }^{2} + \\frac{\\kappa_{\\perp} \\omega_{}^{2}}{c^{2}} & k_{y } k_{z }\\\\k_{x } k_{z } & k_{y } k_{z } & - k_{x }^{2} - k_{y }^{2} + \\frac{\\kappa_{\\parallel} \\omega_{}^{2}}{c^{2}}\\end{matrix}\\right]$"
      ],
      "text/plain": [
       "⎡                            2                         2                      \n",
       "⎢       2       2   κ_\\perp⋅ω       ⅈ⋅\\kappa_{\\times}⋅ω                       \n",
       "⎢ - k_y_  - k_z_  + ──────────    - ──────────────────── + kₓ ⋅k_y_           \n",
       "⎢                        2                    2                               \n",
       "⎢                       c                    c                                \n",
       "⎢                                                                             \n",
       "⎢                   2                                          2              \n",
       "⎢ⅈ⋅\\kappa_{\\times}⋅ω                      2       2   κ_\\perp⋅ω               \n",
       "⎢──────────────────── + kₓ ⋅k_y_     - kₓ   - k_z_  + ──────────              \n",
       "⎢          2                                               2                  \n",
       "⎢         c                                               c                   \n",
       "⎢                                                                             \n",
       "⎢                                                                             \n",
       "⎢                                                                         2   \n",
       "⎢           kₓ ⋅k_z_                          k_y_⋅k_z_              - kₓ   - \n",
       "⎢                                                                             \n",
       "⎣                                                                             \n",
       "\n",
       "                      ⎤\n",
       "                      ⎥\n",
       "  kₓ ⋅k_z_            ⎥\n",
       "                      ⎥\n",
       "                      ⎥\n",
       "                      ⎥\n",
       "                      ⎥\n",
       "                      ⎥\n",
       "  k_y_⋅k_z_           ⎥\n",
       "                      ⎥\n",
       "                      ⎥\n",
       "                      ⎥\n",
       "                     2⎥\n",
       "    2   κ_\\parallel⋅ω ⎥\n",
       "k_y_  + ──────────────⎥\n",
       "               2      ⎥\n",
       "              c       ⎦"
      ]
     },
     "execution_count": 9,
     "metadata": {},
     "output_type": "execute_result"
    },
    {
     "data": {
      "text/latex": [
       "$\\displaystyle \\left[\\begin{matrix}k_{y } \\left(- E_{x } k_{y } + E_{y } k_{x }\\right) - k_{z } \\left(E_{x } k_{z } - E_{z } k_{x }\\right) & - k_{x } \\left(- E_{x } k_{y } + E_{y } k_{x }\\right) + k_{z } \\left(- E_{y } k_{z } + E_{z } k_{y }\\right) & k_{x } \\left(E_{x } k_{z } - E_{z } k_{x }\\right) - k_{y } \\left(- E_{y } k_{z } + E_{z } k_{y }\\right)\\end{matrix}\\right] = \\left[\\begin{matrix}- \\frac{\\omega_{}^{2} \\left(E_{x } \\kappa_{\\perp} - i E_{y } \\kappa_{\\times}\\right)}{c^{2}} & - \\frac{\\omega_{}^{2} \\left(i E_{x } \\kappa_{\\times} + E_{y } \\kappa_{\\perp}\\right)}{c^{2}} & - \\frac{E_{z } \\kappa_{\\parallel} \\omega_{}^{2}}{c^{2}}\\end{matrix}\\right]$"
      ],
      "text/plain": [
       "                                                                              \n",
       "                                                                              \n",
       "[k_y_⋅(-Eₓ ⋅k_y_ + E_y_⋅kₓ ) - k_z_⋅(Eₓ ⋅k_z_ - E_z_⋅kₓ )  -kₓ ⋅(-Eₓ ⋅k_y_ + E\n",
       "                                                                              \n",
       "                                                                              \n",
       "\n",
       "                                                                              \n",
       "                                                                              \n",
       "_y_⋅kₓ ) + k_z_⋅(-E_y_⋅k_z_ + E_z_⋅k_y_)  kₓ ⋅(Eₓ ⋅k_z_ - E_z_⋅kₓ ) - k_y_⋅(-E\n",
       "                                                                              \n",
       "                                                                              \n",
       "\n",
       "                         ⎡  2                                            2    \n",
       "                         ⎢-ω ⋅(Eₓ ⋅κ_\\perp - ⅈ⋅E_y_⋅\\kappa_{\\times})   -ω ⋅(ⅈ⋅\n",
       "_y_⋅k_z_ + E_z_⋅k_y_)] = ⎢───────────────────────────────────────────  ───────\n",
       "                         ⎢                      2                             \n",
       "                         ⎣                     c                              \n",
       "\n",
       "                                                         2 ⎤\n",
       "Eₓ ⋅\\kappa_{\\times} + E_y_⋅κ_\\perp)   -E_z_⋅κ_\\parallel⋅ω  ⎥\n",
       "────────────────────────────────────  ─────────────────────⎥\n",
       "               2                                 2         ⎥\n",
       "              c                                 c          ⎦"
      ]
     },
     "execution_count": 9,
     "metadata": {},
     "output_type": "execute_result"
    }
   ],
   "source": [
    "from sinupy import mediums, waves\n",
    "from sinupy.waves import EM\n",
    "plasma = mediums.ColdMagnetizedPlasma()     # to specify a kind of metarial\n",
    "wave_eq = waves.EM.WaveEq(plasma)           # wave eqution\n",
    "wave = wave_eq.wave\n",
    "wave_eq.coeff_matrix()                      # get the k parameter of cross part \n",
    "wave_eq"
   ]
  },
  {
   "cell_type": "markdown",
   "metadata": {},
   "source": [
    "The function `sinupy.waves.EM.solve_N2(WaveEq)` returns the solutions of $N^2(\\omega, \\theta)$, which is usually tedious for hand-deduction."
   ]
  },
  {
   "cell_type": "code",
   "execution_count": 3,
   "metadata": {},
   "outputs": [
    {
     "data": {
      "image/png": "[encoded data removed]",
      "text/latex": [
       "$\\displaystyle \\left[ \\frac{- \\kappa_{\\times}^{2} \\sin^{2}{\\left(\\theta \\right)} - \\kappa_{\\parallel} \\kappa_{\\perp} \\sin^{2}{\\left(\\theta \\right)} + 2 \\kappa_{\\parallel} \\kappa_{\\perp} + \\kappa_{\\perp}^{2} \\sin^{2}{\\left(\\theta \\right)} + \\sqrt{\\kappa_{\\times}^{4} \\sin^{4}{\\left(\\theta \\right)} - 4 \\kappa_{\\times}^{2} \\kappa_{\\parallel}^{2} \\sin^{2}{\\left(\\theta \\right)} + 4 \\kappa_{\\times}^{2} \\kappa_{\\parallel}^{2} + 2 \\kappa_{\\times}^{2} \\kappa_{\\parallel} \\kappa_{\\perp} \\sin^{4}{\\left(\\theta \\right)} - 2 \\kappa_{\\times}^{2} \\kappa_{\\perp}^{2} \\sin^{4}{\\left(\\theta \\right)} + \\kappa_{\\parallel}^{2} \\kappa_{\\perp}^{2} \\sin^{4}{\\left(\\theta \\right)} - 2 \\kappa_{\\parallel} \\kappa_{\\perp}^{3} \\sin^{4}{\\left(\\theta \\right)} + \\kappa_{\\perp}^{4} \\sin^{4}{\\left(\\theta \\right)}}}{2 \\left(- \\kappa_{\\parallel} \\sin^{2}{\\left(\\theta \\right)} + \\kappa_{\\parallel} + \\kappa_{\\perp} \\sin^{2}{\\left(\\theta \\right)}\\right)}, \\  \\frac{\\kappa_{\\times}^{2} \\sin^{2}{\\left(\\theta \\right)} + \\kappa_{\\parallel} \\kappa_{\\perp} \\sin^{2}{\\left(\\theta \\right)} - 2 \\kappa_{\\parallel} \\kappa_{\\perp} - \\kappa_{\\perp}^{2} \\sin^{2}{\\left(\\theta \\right)} + \\sqrt{\\kappa_{\\times}^{4} \\sin^{4}{\\left(\\theta \\right)} - 4 \\kappa_{\\times}^{2} \\kappa_{\\parallel}^{2} \\sin^{2}{\\left(\\theta \\right)} + 4 \\kappa_{\\times}^{2} \\kappa_{\\parallel}^{2} + 2 \\kappa_{\\times}^{2} \\kappa_{\\parallel} \\kappa_{\\perp} \\sin^{4}{\\left(\\theta \\right)} - 2 \\kappa_{\\times}^{2} \\kappa_{\\perp}^{2} \\sin^{4}{\\left(\\theta \\right)} + \\kappa_{\\parallel}^{2} \\kappa_{\\perp}^{2} \\sin^{4}{\\left(\\theta \\right)} - 2 \\kappa_{\\parallel} \\kappa_{\\perp}^{3} \\sin^{4}{\\left(\\theta \\right)} + \\kappa_{\\perp}^{4} \\sin^{4}{\\left(\\theta \\right)}}}{2 \\left(\\kappa_{\\parallel} \\sin^{2}{\\left(\\theta \\right)} - \\kappa_{\\parallel} - \\kappa_{\\perp} \\sin^{2}{\\left(\\theta \\right)}\\right)}\\right]$"
      ],
      "text/plain": [
       "⎡                                                                             \n",
       "⎢                 2    2                             2                        \n",
       "⎢- \\kappa_{\\times} ⋅sin (θ) - κ_\\parallel⋅κ_\\perp⋅sin (θ) + 2⋅κ_\\parallel⋅κ_\\p\n",
       "⎢─────────────────────────────────────────────────────────────────────────────\n",
       "⎢                                                                             \n",
       "⎣                                                                             \n",
       "\n",
       "                            __________________________________________________\n",
       "             2    2        ╱                4    4                       2    \n",
       "erp + κ_\\perp ⋅sin (θ) + ╲╱  \\kappa_{\\times} ⋅sin (θ) - 4⋅\\kappa_{\\times} ⋅κ_\\\n",
       "──────────────────────────────────────────────────────────────────────────────\n",
       "                                                                              \n",
       "                                                                              \n",
       "\n",
       "______________________________________________________________________________\n",
       "        2    2                       2            2                    2      \n",
       "parallel ⋅sin (θ) + 4⋅\\kappa_{\\times} ⋅κ_\\parallel  + 2⋅\\kappa_{\\times} ⋅κ_\\pa\n",
       "──────────────────────────────────────────────────────────────────────────────\n",
       "       ⎛                 2                               2   ⎞                \n",
       "     2⋅⎝- κ_\\parallel⋅sin (θ) + κ_\\parallel + κ_\\perp⋅sin (θ)⎠                \n",
       "\n",
       "______________________________________________________________________________\n",
       "                  4                       2        2    4                 2   \n",
       "rallel⋅κ_\\perp⋅sin (θ) - 2⋅\\kappa_{\\times} ⋅κ_\\perp ⋅sin (θ) + κ_\\parallel ⋅κ_\n",
       "──────────────────────────────────────────────────────────────────────────────\n",
       "                                                                              \n",
       "                                                                              \n",
       "\n",
       "___________________________________________________________________           \n",
       "     2    4                           3    4             4    4               \n",
       "\\perp ⋅sin (θ) - 2⋅κ_\\parallel⋅κ_\\perp ⋅sin (θ) + κ_\\perp ⋅sin (θ)   \\kappa_{\\\n",
       "───────────────────────────────────────────────────────────────────, ─────────\n",
       "                                                                              \n",
       "                                                                              \n",
       "\n",
       "                                                                              \n",
       "      2    2                             2                                    \n",
       "times} ⋅sin (θ) + κ_\\parallel⋅κ_\\perp⋅sin (θ) - 2⋅κ_\\parallel⋅κ_\\perp - κ_\\per\n",
       "──────────────────────────────────────────────────────────────────────────────\n",
       "                                                                              \n",
       "                                                                              \n",
       "\n",
       "                ______________________________________________________________\n",
       " 2    2        ╱                4    4                       2            2   \n",
       "p ⋅sin (θ) + ╲╱  \\kappa_{\\times} ⋅sin (θ) - 4⋅\\kappa_{\\times} ⋅κ_\\parallel ⋅si\n",
       "──────────────────────────────────────────────────────────────────────────────\n",
       "                                                                           ⎛  \n",
       "                                                                         2⋅⎝κ_\n",
       "\n",
       "______________________________________________________________________________\n",
       " 2                       2            2                    2                  \n",
       "n (θ) + 4⋅\\kappa_{\\times} ⋅κ_\\parallel  + 2⋅\\kappa_{\\times} ⋅κ_\\parallel⋅κ_\\pe\n",
       "──────────────────────────────────────────────────────────────────────────────\n",
       "             2                               2   ⎞                            \n",
       "\\parallel⋅sin (θ) - κ_\\parallel - κ_\\perp⋅sin (θ)⎠                            \n",
       "\n",
       "______________________________________________________________________________\n",
       "      4                       2        2    4                 2        2    4 \n",
       "rp⋅sin (θ) - 2⋅\\kappa_{\\times} ⋅κ_\\perp ⋅sin (θ) + κ_\\parallel ⋅κ_\\perp ⋅sin (\n",
       "──────────────────────────────────────────────────────────────────────────────\n",
       "                                                                              \n",
       "                                                                              \n",
       "\n",
       "_______________________________________________________⎤\n",
       "                          3    4             4    4    ⎥\n",
       "θ) - 2⋅κ_\\parallel⋅κ_\\perp ⋅sin (θ) + κ_\\perp ⋅sin (θ) ⎥\n",
       "───────────────────────────────────────────────────────⎥\n",
       "                                                       ⎥\n",
       "                                                       ⎦"
      ]
     },
     "execution_count": 3,
     "metadata": {},
     "output_type": "execute_result"
    }
   ],
   "source": [
    "EM.solve_N2(wave_eq)        # solve the eqution"
   ]
  }
 ],
 "metadata": {
  "kernelspec": {
   "display_name": "Python 3",
   "language": "python",
   "name": "python3"
  },
  "language_info": {
   "codemirror_mode": {
    "name": "ipython",
    "version": 3
   },
   "file_extension": ".py",
   "mimetype": "text/x-python",
   "name": "python",
   "nbconvert_exporter": "python",
   "pygments_lexer": "ipython3",
   "version": "3.7.5"
  }
 },
 "nbformat": 4,
 "nbformat_minor": 4
}
