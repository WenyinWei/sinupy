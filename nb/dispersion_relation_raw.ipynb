{
 "cells": [
  {
   "cell_type": "code",
   "execution_count": 1,
   "metadata": {},
   "outputs": [],
   "source": [
    "from os import sys\n",
    "from pathlib import Path\n",
    "p_fusystem = Path.cwd().parent.parent\n",
    "sys.path.append(str(p_fusystem))\n",
    "\n",
    "import fusystem.algebra.quadratic as fuquad\n",
    "import fusystem.algebra.tensor as futens\n",
    "import fusystem.algebra.utility as fualguti\n",
    "from fusystem.algebra.draw import draw_discontinuable_expr\n",
    "\n",
    "from sympy import init_printing; init_printing()\n",
    "from sympy import Matrix, Array\n",
    "\n",
    "from sympy import Symbol, symbols, I, sin, cos, pi\n",
    "from sympy import Eq, solve\n",
    "\n",
    "k_0 = Symbol('k_0', positive=True)\n",
    "theta = Symbol('theta', nonnegative=True)\n",
    "N = Symbol('N')\n",
    "k_x, k_y, k_z, k = symbols('k_x, k_y, k_z, k', real=True); vk = Array([k_x, k_y, k_z])\n",
    "omega, omega_pe, omega_ce = symbols('omega, \\omega_{pe}, \\omega_{ce}', negative=False)\n",
    "E_x, E_y, E_z = symbols('E_x, E_y, E_z'); vE = Array([E_x, E_y, E_z])\n",
    "kappa_para, kappa_times, kappa_perp = symbols('kappa_\\parallel, \\kappa_{\\\\times}, kappa_\\perp', real=True)"
   ]
  },
  {
   "cell_type": "code",
   "execution_count": 2,
   "metadata": {},
   "outputs": [
    {
     "data": {
      "text/latex": [
       "$\\displaystyle \\left[\\begin{matrix}0 & - k_{z} & k_{y}\\\\k_{z} & 0 & - k_{x}\\\\- k_{y} & k_{x} & 0\\end{matrix}\\right]$"
      ],
      "text/plain": [
       "⎡ 0    -k_z  k_y⎤\n",
       "⎢               ⎥\n",
       "⎢k_z    0    -kₓ⎥\n",
       "⎢               ⎥\n",
       "⎣-k_y   kₓ    0 ⎦"
      ]
     },
     "execution_count": 2,
     "metadata": {},
     "output_type": "execute_result"
    }
   ],
   "source": [
    "m_vk_x = futens.m_A_x(vk); m_vk_x"
   ]
  },
  {
   "cell_type": "code",
   "execution_count": 3,
   "metadata": {},
   "outputs": [
    {
     "data": {
      "text/latex": [
       "$\\displaystyle \\left[\\begin{matrix}k_{0}^{2} \\kappa_{\\perp} - k_{y}^{2} - k_{z}^{2} & - i \\kappa_{\\times} k_{0}^{2} + k_{x} k_{y} & k_{x} k_{z}\\\\i \\kappa_{\\times} k_{0}^{2} + k_{x} k_{y} & k_{0}^{2} \\kappa_{\\perp} - k_{x}^{2} - k_{z}^{2} & k_{y} k_{z}\\\\k_{x} k_{z} & k_{y} k_{z} & k_{0}^{2} \\kappa_{\\parallel} - k_{x}^{2} - k_{y}^{2}\\end{matrix}\\right]$"
      ],
      "text/plain": [
       "⎡    2              2      2                           2                      \n",
       "⎢  k₀ ⋅κ_\\perp - k_y  - k_z      - ⅈ⋅\\kappa_{\\times}⋅k₀  + kₓ⋅k_y             \n",
       "⎢                                                                             \n",
       "⎢                    2                 2             2      2                 \n",
       "⎢ⅈ⋅\\kappa_{\\times}⋅k₀  + kₓ⋅k_y      k₀ ⋅κ_\\perp - kₓ  - k_z                 k\n",
       "⎢                                                                             \n",
       "⎢                                                                    2        \n",
       "⎣            kₓ⋅k_z                          k_y⋅k_z               k₀ ⋅κ_\\para\n",
       "\n",
       "                 ⎤\n",
       "kₓ⋅k_z           ⎥\n",
       "                 ⎥\n",
       "                 ⎥\n",
       "_y⋅k_z           ⎥\n",
       "                 ⎥\n",
       "         2      2⎥\n",
       "llel - kₓ  - k_y ⎦"
      ]
     },
     "execution_count": 3,
     "metadata": {},
     "output_type": "execute_result"
    }
   ],
   "source": [
    "mkappa = Matrix([\n",
    "    [kappa_perp,    -I*kappa_times, 0],\n",
    "    [I*kappa_times, kappa_perp,     0],\n",
    "    [0,             0,     kappa_para]])\n",
    "dielectric = k_0**2 * mkappa + m_vk_x.tomatrix() * m_vk_x.tomatrix(); dielectric"
   ]
  },
  {
   "cell_type": "code",
   "execution_count": 4,
   "metadata": {},
   "outputs": [
    {
     "data": {
      "image/png": "[encoded data removed]",
      "text/latex": [
       "$\\displaystyle \\kappa_{\\times}^{2} k^{2} k_{0}^{4} \\sin^{2}{\\left(\\theta \\right)} - \\kappa_{\\times}^{2} k_{0}^{6} \\kappa_{\\parallel} + k^{4} k_{0}^{2} \\kappa_{\\parallel} \\sin^{2}{\\left(\\theta \\right)} \\cos^{2}{\\left(\\theta \\right)} + k^{4} k_{0}^{2} \\kappa_{\\parallel} \\cos^{4}{\\left(\\theta \\right)} + k^{4} k_{0}^{2} \\kappa_{\\perp} \\sin^{4}{\\left(\\theta \\right)} + k^{4} k_{0}^{2} \\kappa_{\\perp} \\sin^{2}{\\left(\\theta \\right)} \\cos^{2}{\\left(\\theta \\right)} - k^{2} k_{0}^{4} \\kappa_{\\parallel} \\kappa_{\\perp} \\sin^{2}{\\left(\\theta \\right)} - 2 k^{2} k_{0}^{4} \\kappa_{\\parallel} \\kappa_{\\perp} \\cos^{2}{\\left(\\theta \\right)} - k^{2} k_{0}^{4} \\kappa_{\\perp}^{2} \\sin^{2}{\\left(\\theta \\right)} + k_{0}^{6} \\kappa_{\\parallel} \\kappa_{\\perp}^{2}$"
      ],
      "text/plain": [
       "               2  2   4    2                     2   6                4   2   \n",
       "\\kappa_{\\times} ⋅k ⋅k₀ ⋅sin (θ) - \\kappa_{\\times} ⋅k₀ ⋅κ_\\parallel + k ⋅k₀ ⋅κ_\n",
       "\n",
       "             2       2       4   2                4       4   2            4  \n",
       "\\parallel⋅sin (θ)⋅cos (θ) + k ⋅k₀ ⋅κ_\\parallel⋅cos (θ) + k ⋅k₀ ⋅κ_\\perp⋅sin (θ\n",
       "\n",
       "     4   2            2       2       2   4                        2         2\n",
       ") + k ⋅k₀ ⋅κ_\\perp⋅sin (θ)⋅cos (θ) - k ⋅k₀ ⋅κ_\\parallel⋅κ_\\perp⋅sin (θ) - 2⋅k \n",
       "\n",
       "   4                        2       2   4        2    2        6              \n",
       "⋅k₀ ⋅κ_\\parallel⋅κ_\\perp⋅cos (θ) - k ⋅k₀ ⋅κ_\\perp ⋅sin (θ) + k₀ ⋅κ_\\parallel⋅κ\n",
       "\n",
       "      2\n",
       "_\\perp "
      ]
     },
     "execution_count": 4,
     "metadata": {},
     "output_type": "execute_result"
    }
   ],
   "source": [
    "dielectric_det = dielectric.det().subs(k_y, 0)\n",
    "dielectric_det_theta = dielectric_det.subs(k_x, k* sin(theta)).subs(k_z, k*cos(theta)); dielectric_det_theta"
   ]
  },
  {
   "cell_type": "code",
   "execution_count": 5,
   "metadata": {},
   "outputs": [
    {
     "data": {
      "image/png": "[encoded data removed]",
      "text/latex": [
       "$\\displaystyle \\left[ \\frac{- \\kappa_{\\times}^{2} \\sin^{2}{\\left(\\theta \\right)} - \\kappa_{\\parallel} \\kappa_{\\perp} \\sin^{2}{\\left(\\theta \\right)} + 2 \\kappa_{\\parallel} \\kappa_{\\perp} + \\kappa_{\\perp}^{2} \\sin^{2}{\\left(\\theta \\right)} + \\sqrt{\\kappa_{\\times}^{4} \\sin^{4}{\\left(\\theta \\right)} - 4 \\kappa_{\\times}^{2} \\kappa_{\\parallel}^{2} \\sin^{2}{\\left(\\theta \\right)} + 4 \\kappa_{\\times}^{2} \\kappa_{\\parallel}^{2} + 2 \\kappa_{\\times}^{2} \\kappa_{\\parallel} \\kappa_{\\perp} \\sin^{4}{\\left(\\theta \\right)} - 2 \\kappa_{\\times}^{2} \\kappa_{\\perp}^{2} \\sin^{4}{\\left(\\theta \\right)} + \\kappa_{\\parallel}^{2} \\kappa_{\\perp}^{2} \\sin^{4}{\\left(\\theta \\right)} - 2 \\kappa_{\\parallel} \\kappa_{\\perp}^{3} \\sin^{4}{\\left(\\theta \\right)} + \\kappa_{\\perp}^{4} \\sin^{4}{\\left(\\theta \\right)}}}{2 \\left(- \\kappa_{\\parallel} \\sin^{2}{\\left(\\theta \\right)} + \\kappa_{\\parallel} + \\kappa_{\\perp} \\sin^{2}{\\left(\\theta \\right)}\\right)}, \\  \\frac{\\kappa_{\\times}^{2} \\sin^{2}{\\left(\\theta \\right)} + \\kappa_{\\parallel} \\kappa_{\\perp} \\sin^{2}{\\left(\\theta \\right)} - 2 \\kappa_{\\parallel} \\kappa_{\\perp} - \\kappa_{\\perp}^{2} \\sin^{2}{\\left(\\theta \\right)} + \\sqrt{\\kappa_{\\times}^{4} \\sin^{4}{\\left(\\theta \\right)} - 4 \\kappa_{\\times}^{2} \\kappa_{\\parallel}^{2} \\sin^{2}{\\left(\\theta \\right)} + 4 \\kappa_{\\times}^{2} \\kappa_{\\parallel}^{2} + 2 \\kappa_{\\times}^{2} \\kappa_{\\parallel} \\kappa_{\\perp} \\sin^{4}{\\left(\\theta \\right)} - 2 \\kappa_{\\times}^{2} \\kappa_{\\perp}^{2} \\sin^{4}{\\left(\\theta \\right)} + \\kappa_{\\parallel}^{2} \\kappa_{\\perp}^{2} \\sin^{4}{\\left(\\theta \\right)} - 2 \\kappa_{\\parallel} \\kappa_{\\perp}^{3} \\sin^{4}{\\left(\\theta \\right)} + \\kappa_{\\perp}^{4} \\sin^{4}{\\left(\\theta \\right)}}}{2 \\left(\\kappa_{\\parallel} \\sin^{2}{\\left(\\theta \\right)} - \\kappa_{\\parallel} - \\kappa_{\\perp} \\sin^{2}{\\left(\\theta \\right)}\\right)}\\right]$"
      ],
      "text/plain": [
       "⎡                                                                             \n",
       "⎢                 2    2                             2                        \n",
       "⎢- \\kappa_{\\times} ⋅sin (θ) - κ_\\parallel⋅κ_\\perp⋅sin (θ) + 2⋅κ_\\parallel⋅κ_\\p\n",
       "⎢─────────────────────────────────────────────────────────────────────────────\n",
       "⎢                                                                             \n",
       "⎣                                                                             \n",
       "\n",
       "                            __________________________________________________\n",
       "             2    2        ╱                4    4                       2    \n",
       "erp + κ_\\perp ⋅sin (θ) + ╲╱  \\kappa_{\\times} ⋅sin (θ) - 4⋅\\kappa_{\\times} ⋅κ_\\\n",
       "──────────────────────────────────────────────────────────────────────────────\n",
       "                                                                              \n",
       "                                                                              \n",
       "\n",
       "______________________________________________________________________________\n",
       "        2    2                       2            2                    2      \n",
       "parallel ⋅sin (θ) + 4⋅\\kappa_{\\times} ⋅κ_\\parallel  + 2⋅\\kappa_{\\times} ⋅κ_\\pa\n",
       "──────────────────────────────────────────────────────────────────────────────\n",
       "       ⎛                 2                               2   ⎞                \n",
       "     2⋅⎝- κ_\\parallel⋅sin (θ) + κ_\\parallel + κ_\\perp⋅sin (θ)⎠                \n",
       "\n",
       "______________________________________________________________________________\n",
       "                  4                       2        2    4                 2   \n",
       "rallel⋅κ_\\perp⋅sin (θ) - 2⋅\\kappa_{\\times} ⋅κ_\\perp ⋅sin (θ) + κ_\\parallel ⋅κ_\n",
       "──────────────────────────────────────────────────────────────────────────────\n",
       "                                                                              \n",
       "                                                                              \n",
       "\n",
       "___________________________________________________________________           \n",
       "     2    4                           3    4             4    4               \n",
       "\\perp ⋅sin (θ) - 2⋅κ_\\parallel⋅κ_\\perp ⋅sin (θ) + κ_\\perp ⋅sin (θ)   \\kappa_{\\\n",
       "───────────────────────────────────────────────────────────────────, ─────────\n",
       "                                                                              \n",
       "                                                                              \n",
       "\n",
       "                                                                              \n",
       "      2    2                             2                                    \n",
       "times} ⋅sin (θ) + κ_\\parallel⋅κ_\\perp⋅sin (θ) - 2⋅κ_\\parallel⋅κ_\\perp - κ_\\per\n",
       "──────────────────────────────────────────────────────────────────────────────\n",
       "                                                                              \n",
       "                                                                              \n",
       "\n",
       "                ______________________________________________________________\n",
       " 2    2        ╱                4    4                       2            2   \n",
       "p ⋅sin (θ) + ╲╱  \\kappa_{\\times} ⋅sin (θ) - 4⋅\\kappa_{\\times} ⋅κ_\\parallel ⋅si\n",
       "──────────────────────────────────────────────────────────────────────────────\n",
       "                                                                           ⎛  \n",
       "                                                                         2⋅⎝κ_\n",
       "\n",
       "______________________________________________________________________________\n",
       " 2                       2            2                    2                  \n",
       "n (θ) + 4⋅\\kappa_{\\times} ⋅κ_\\parallel  + 2⋅\\kappa_{\\times} ⋅κ_\\parallel⋅κ_\\pe\n",
       "──────────────────────────────────────────────────────────────────────────────\n",
       "             2                               2   ⎞                            \n",
       "\\parallel⋅sin (θ) - κ_\\parallel - κ_\\perp⋅sin (θ)⎠                            \n",
       "\n",
       "______________________________________________________________________________\n",
       "      4                       2        2    4                 2        2    4 \n",
       "rp⋅sin (θ) - 2⋅\\kappa_{\\times} ⋅κ_\\perp ⋅sin (θ) + κ_\\parallel ⋅κ_\\perp ⋅sin (\n",
       "──────────────────────────────────────────────────────────────────────────────\n",
       "                                                                              \n",
       "                                                                              \n",
       "\n",
       "_______________________________________________________⎤\n",
       "                          3    4             4    4    ⎥\n",
       "θ) - 2⋅κ_\\parallel⋅κ_\\perp ⋅sin (θ) + κ_\\perp ⋅sin (θ) ⎥\n",
       "───────────────────────────────────────────────────────⎥\n",
       "                                                       ⎥\n",
       "                                                       ⎦"
      ]
     },
     "execution_count": 5,
     "metadata": {},
     "output_type": "execute_result"
    }
   ],
   "source": [
    "N2_sol = solve(Eq(dielectric_det_theta.subs(k, k_0 * N), 0), (N**2)); N2_sol"
   ]
  },
  {
   "cell_type": "code",
   "execution_count": null,
   "metadata": {},
   "outputs": [],
   "source": []
  },
  {
   "cell_type": "code",
   "execution_count": 6,
   "metadata": {},
   "outputs": [],
   "source": [
    "def N2_sol_theta(theta_value):\n",
    "    N2_sol_theta_ = [sol.subs(theta, theta_value).simplify() for sol in N2_sol]\n",
    "    return list(fuquad.simplify_quadratic_sols(N2_sol_theta_[0], N2_sol_theta_[1]))"
   ]
  },
  {
   "cell_type": "code",
   "execution_count": 7,
   "metadata": {},
   "outputs": [
    {
     "data": {
      "image/png": "[encoded data removed]",
      "text/latex": [
       "$\\displaystyle \\left[ \\kappa_{\\times} + \\kappa_{\\perp}, \\  - \\kappa_{\\times} + \\kappa_{\\perp}\\right]$"
      ],
      "text/plain": [
       "[\\kappa_{\\times} + κ_\\perp, -\\kappa_{\\times} + κ_\\perp]"
      ]
     },
     "execution_count": 7,
     "metadata": {},
     "output_type": "execute_result"
    }
   ],
   "source": [
    "N2_sol_theta(0)"
   ]
  },
  {
   "cell_type": "code",
   "execution_count": 8,
   "metadata": {},
   "outputs": [
    {
     "data": {
      "image/png": "[encoded data removed]",
      "text/latex": [
       "$\\displaystyle \\left[ \\kappa_{\\parallel}, \\  - \\frac{\\kappa_{\\times}^{2}}{\\kappa_{\\perp}} + \\kappa_{\\perp}\\right]$"
      ],
      "text/plain": [
       "⎡                              2          ⎤\n",
       "⎢               \\kappa_{\\times}           ⎥\n",
       "⎢κ_\\parallel, - ──────────────── + κ_\\perp⎥\n",
       "⎣                   κ_\\perp               ⎦"
      ]
     },
     "execution_count": 8,
     "metadata": {},
     "output_type": "execute_result"
    }
   ],
   "source": [
    "N2_sol_theta(pi/2)"
   ]
  },
  {
   "cell_type": "code",
   "execution_count": 9,
   "metadata": {},
   "outputs": [],
   "source": [
    "def kappa2omega(expr, plasma_type='electron'):\n",
    "    from sympy import expand, cancel, factor\n",
    "    if plasma_type == 'electron':\n",
    "        expr = expr.subs(kappa_perp, 1 - omega_pe**2 / (omega**2 - omega_ce**2))\n",
    "        expr = expr.subs(kappa_times, (omega_ce / omega) * (omega_pe**2 / (omega**2 - omega_ce**2)))\n",
    "        expr = expr.subs(kappa_para, 1 - omega_pe**2 / omega**2 ) \n",
    "        expr = expr.simplify()\n",
    "    elif plasma_type == 'electron+ion':\n",
    "        raise NotImplementedError(\"Not yet prepared for neutral plasma with electron and pure ion species.\")\n",
    "    else:\n",
    "        raise ValueError(\"Unprepared plasma type\")\n",
    "    return expr"
   ]
  },
  {
   "cell_type": "code",
   "execution_count": 10,
   "metadata": {
    "scrolled": false
   },
   "outputs": [
    {
     "data": {
      "image/png": "[encoded data removed]",
      "text/latex": [
       "$\\displaystyle \\left[ \\frac{\\omega_{ce} \\omega - \\omega_{pe}^{2} + \\omega^{2}}{\\omega \\left(\\omega_{ce} + \\omega\\right)}, \\  \\frac{\\omega_{ce} \\omega + \\omega_{pe}^{2} - \\omega^{2}}{\\omega \\left(\\omega_{ce} - \\omega\\right)}\\right]$"
      ],
      "text/plain": [
       "⎡                           2    2                             2    2⎤\n",
       "⎢\\omega_{ce}⋅ω - \\omega_{pe}  + ω   \\omega_{ce}⋅ω + \\omega_{pe}  - ω ⎥\n",
       "⎢─────────────────────────────────, ─────────────────────────────────⎥\n",
       "⎣       ω⋅(\\omega_{ce} + ω)                ω⋅(\\omega_{ce} - ω)       ⎦"
      ]
     },
     "execution_count": 10,
     "metadata": {},
     "output_type": "execute_result"
    }
   ],
   "source": [
    "N2_sol_omega = list(map(kappa2omega, N2_sol_theta(0))); N2_sol_omega"
   ]
  },
  {
   "cell_type": "code",
   "execution_count": null,
   "metadata": {},
   "outputs": [],
   "source": []
  },
  {
   "cell_type": "code",
   "execution_count": 11,
   "metadata": {},
   "outputs": [
    {
     "data": {
      "image/png": "[encoded data removed]",
      "text/latex": [
       "$\\displaystyle \\left[ \\left\\{0\\right\\}, \\  \\left\\{0, 879410005386.082\\right\\}\\right]$"
      ],
      "text/plain": [
       "[{0}, {0, 879410005386.082}]"
      ]
     },
     "execution_count": 11,
     "metadata": {},
     "output_type": "execute_result"
    }
   ],
   "source": [
    "import fusystem.algebra.parameter as fupm\n",
    "\n",
    "N2_sol_omega_uni = [sol.subs(omega_ce, fupm.omega_ce(B=5)[0]).subs(omega_pe, fupm.omega_pe(n_0=1e20, B=5)[0]) for sol in N2_sol_omega]\n",
    "[fualguti.find_singularities(sol, omega) for sol in N2_sol_omega_uni]"
   ]
  },
  {
   "cell_type": "markdown",
   "metadata": {},
   "source": [
    "## Draw Dispersion Relation\n"
   ]
  },
  {
   "cell_type": "markdown",
   "metadata": {},
   "source": [
    "$N^2(\\omega)$"
   ]
  },
  {
   "cell_type": "code",
   "execution_count": 12,
   "metadata": {},
   "outputs": [
    {
     "data": {
      "text/plain": [
       "<matplotlib.legend.Legend at 0x7f51cd745650>"
      ]
     },
     "execution_count": 12,
     "metadata": {},
     "output_type": "execute_result"
    },
    {
     "data": {
      "image/png": "[encoded data removed]",
      "text/plain": [
       "<Figure size 432x288 with 1 Axes>"
      ]
     },
     "metadata": {
      "needs_background": "light"
     },
     "output_type": "display_data"
    }
   ],
   "source": [
    "import matplotlib.pyplot as plt\n",
    "fig, ax = plt.subplots()\n",
    "ax.axhline(y=0, color='grey', linestyle=':')\n",
    "ax.axhline(y=1, color='grey', linestyle=':')\n",
    "\n",
    "draw_discontinuable_expr(\n",
    "    N2_sol_omega_uni, omega, \n",
    "    varlim=(0.8e11, 1.2e13), exprlim=(-0.4, 10.0), num=250,\n",
    "    var_sample_scale='log', fig=fig, ax=ax, labels=['R', 'L'])\n",
    "\n",
    "\n",
    "ax.set_xscale('log')\n",
    "ax.tick_params(axis='x', which='minor', bottom=True, labelbottom=True)\n",
    "ax.legend()\n"
   ]
  },
  {
   "cell_type": "code",
   "execution_count": 13,
   "metadata": {},
   "outputs": [
    {
     "name": "stderr",
     "output_type": "stream",
     "text": [
      "<string>:2: RuntimeWarning: invalid value encountered in sqrt\n",
      "<string>:2: RuntimeWarning: invalid value encountered in sqrt\n"
     ]
    },
    {
     "data": {
      "text/plain": [
       "<matplotlib.legend.Legend at 0x7f51ca58ed90>"
      ]
     },
     "execution_count": 13,
     "metadata": {},
     "output_type": "execute_result"
    },
    {
     "data": {
      "image/png": "[encoded data removed]",
      "text/plain": [
       "<Figure size 432x288 with 1 Axes>"
      ]
     },
     "metadata": {
      "needs_background": "light"
     },
     "output_type": "display_data"
    }
   ],
   "source": [
    "import matplotlib.pyplot as plt\n",
    "from scipy.constants import c\n",
    "from sympy import sqrt, Abs\n",
    "import numpy as np\n",
    "fig, ax = plt.subplots()\n",
    "\n",
    "k_sol_omega_uni = list(map(lambda expr: omega / c * sqrt(expr), N2_sol_omega_uni)); k_sol_omega_uni\n",
    "# k_sol_omega_uni = list(map(lambda expr: omega / c * sqrt(Abs(expr)), N2_sol_omega_uni)); k_sol_omega_uni\n",
    "\n",
    "varlim = (0.8e11, 1.2e13)\n",
    "exprlim= (0, 1e7)\n",
    "draw_discontinuable_expr(\n",
    "    k_sol_omega_uni, omega, \n",
    "    varlim=varlim, exprlim=exprlim, num=int(1e5), var_is_yaxis=True,\n",
    "    var_sample_scale='log', fig=fig, ax=ax, labels=['R', 'L'])\n",
    "\n",
    "def add_line_with_slope(ax, k:float, num=50, **kwargs):\n",
    "    lower, upper = ax.get_xbound()\n",
    "    x_range_ = np.linspace(lower, upper, num=num)\n",
    "    y_range_ = k * x_range_ \n",
    "    ax.plot(x_range_, y_range_, **kwargs)\n",
    "add_line_with_slope(ax, c, num=500, color='grey', linestyle='--')\n",
    "\n",
    "ax.set_xscale('log')\n",
    "ax.set_yscale('log')\n",
    "ax.tick_params(axis='x', which='minor', bottom=True, labelbottom=True)\n",
    "ax.tick_params(axis='y', which='minor', left=True, labelleft=True)\n",
    "ax.legend()"
   ]
  },
  {
   "cell_type": "code",
   "execution_count": null,
   "metadata": {},
   "outputs": [],
   "source": []
  },
  {
   "cell_type": "code",
   "execution_count": null,
   "metadata": {},
   "outputs": [],
   "source": []
  },
  {
   "cell_type": "code",
   "execution_count": null,
   "metadata": {},
   "outputs": [],
   "source": []
  }
 ],
 "metadata": {
  "kernelspec": {
   "display_name": "Python 3",
   "language": "python",
   "name": "python3"
  },
  "language_info": {
   "codemirror_mode": {
    "name": "ipython",
    "version": 3
   },
   "file_extension": ".py",
   "mimetype": "text/x-python",
   "name": "python",
   "nbconvert_exporter": "python",
   "pygments_lexer": "ipython3",
   "version": "3.7.5"
  }
 },
 "nbformat": 4,
 "nbformat_minor": 4
}
